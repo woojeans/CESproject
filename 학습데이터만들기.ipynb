{
  "cells": [
    {
      "cell_type": "markdown",
      "metadata": {
        "id": "oR-B1WmJLNNt"
      },
      "source": [
        "# 학습데이터 만들기"
      ]
    },
    {
      "cell_type": "markdown",
      "metadata": {},
      "source": [
        "## 라벨링"
      ]
    },
    {
      "cell_type": "code",
      "execution_count": 3,
      "metadata": {
        "id": "0pTW7naqLNNw"
      },
      "outputs": [],
      "source": [
        "import cv2\n",
        "import mediapipe as mp\n",
        "import numpy as np\n",
        "import matplotlib.pyplot as plt\n",
        "import keyboard\n",
        "import random\n",
        "from moviepy.editor import *"
      ]
    },
    {
      "cell_type": "code",
      "execution_count": 6,
      "metadata": {
        "id": "8ha8vDpeLNNx"
      },
      "outputs": [],
      "source": [
        "video_clip = VideoFileClip('./동영상/BTS - Dynamite1.mp4').subclip(4, 203)\n",
        "video_clip2 = VideoFileClip('./동영상/BTS - Dynamite2.mp4').subclip(1.63, 203)"
      ]
    },
    {
      "cell_type": "code",
      "execution_count": 7,
      "metadata": {
        "id": "mnWvKP4nLNNx"
      },
      "outputs": [],
      "source": [
        "# 포즈 감지 모델 초기화\n",
        "mp_pose = mp.solutions.pose\n",
        "pose_video = mp_pose.Pose(static_image_mode=True, min_detection_confidence=0.7,\n",
        "                          min_tracking_confidence=0.7)\n",
        "mp_drawing = mp.solutions.drawing_utils"
      ]
    },
    {
      "cell_type": "code",
      "execution_count": 8,
      "metadata": {
        "id": "dWZrKEMXLNNy"
      },
      "outputs": [],
      "source": [
        "# 포즈 검출 함수\n",
        "def detectPose(image_pose, pose, draw=False, display=False):\n",
        "    \n",
        "    original_image = image_pose.copy()\n",
        "    \n",
        "    image_in_RGB = cv2.cvtColor(image_pose, cv2.COLOR_BGR2RGB)\n",
        "    \n",
        "    resultant = pose.process(image_in_RGB)\n",
        "\n",
        "    if resultant.pose_landmarks and draw:    \n",
        "\n",
        "        mp_drawing.draw_landmarks(image=original_image, landmark_list=resultant.pose_landmarks,\n",
        "                                  connections=mp_pose.POSE_CONNECTIONS,\n",
        "                                  landmark_drawing_spec=mp_drawing.DrawingSpec(color=(255,255,255),\n",
        "                                                                               thickness=3, circle_radius=3),\n",
        "                                  connection_drawing_spec=mp_drawing.DrawingSpec(color=(49,125,237),\n",
        "                                                                               thickness=2, circle_radius=2))\n",
        "\n",
        "    if display:\n",
        "            \n",
        "            plt.figure(figsize=[22,22])\n",
        "            # plt.subplot(121);plt.imshow(image_pose[:,:,::-1]);plt.title(\"Input Image\");plt.axis('off');\n",
        "            plt.subplot(122);plt.imshow(original_image[:,:,::-1]);plt.axis('off') #;plt.title(\"Pose detected Image\");plt.axis('off');\n",
        "\n",
        "    # else:\n",
        "    #     return original_image, resultant\n",
        "    return original_image, resultant"
      ]
    },
    {
      "cell_type": "code",
      "execution_count": 9,
      "metadata": {
        "id": "G7eEW8wjLNNy"
      },
      "outputs": [],
      "source": [
        "import pandas as pd\n",
        "df = pd.DataFrame()"
      ]
    },
    {
      "cell_type": "code",
      "execution_count": 10,
      "metadata": {
        "id": "iLU0rgMoLNNz"
      },
      "outputs": [],
      "source": [
        "for num, i in enumerate(np.arange(0, 203, 0.5)):\n",
        "   \n",
        "    img = video_clip.get_frame(i)\n",
        "    img2 = video_clip2.get_frame(i)\n",
        "    \n",
        "    img, target_result = detectPose(img, pose_video, True, False)\n",
        "    img2, user_result = detectPose(img2, pose_video, True, False)\n",
        "    \n",
        "    img_target = cv2.resize(img, (0, 0), fx=0.5, fy=0.5, interpolation=cv2.INTER_AREA)\n",
        "    img_user = cv2.resize(img2, (0, 0), fx=0.5, fy=0.5, interpolation=cv2.INTER_AREA)\n",
        "    \n",
        "    numpy_vertical = np.vstack((img_target, img_user))\n",
        "    \n",
        "    ver_cv = cv2.cvtColor(numpy_vertical, cv2.COLOR_BGR2RGB)\n",
        "    cv2.imshow(\"target\", ver_cv)\n",
        "    cv2.waitKey()\n",
        "    \n",
        "    try:\n",
        "        if keyboard.is_pressed('0'):            # 두 포즈가 다른 경우\n",
        "            df.loc[num, 'target_lm'] = target_result.pose_world_landmarks.landmark\n",
        "            df.loc[num, 'user_lm'] = user_result.pose_world_landmarks.landmark\n",
        "            df.loc[num, 'label'] = 0\n",
        "            \n",
        "        if keyboard.is_pressed('1'):            # 두 포즈가 같은 경우\n",
        "            df.loc[num, 'target_lm'] = target_result.pose_world_landmarks.landmark\n",
        "            df.loc[num, 'user_lm'] = user_result.pose_world_landmarks.landmark\n",
        "            df.loc[num, 'label'] = 1\n",
        "            \n",
        "        if keyboard.is_pressed('2'):            # 둘 중 하나라도 인식이 안된 경우\n",
        "            df.loc[num, 'target_lm'] = target_result.pose_world_landmarks.landmark\n",
        "            df.loc[num, 'user_lm'] = user_result.pose_world_landmarks.landmark\n",
        "            df.loc[num, 'label'] = np.nan\n",
        "            \n",
        "        if keyboard.is_pressed('esc'):\n",
        "            break\n",
        "    except:\n",
        "        continue\n",
        "\n",
        "cv2.destroyAllWindows()"
      ]
    },
    {
      "cell_type": "code",
      "execution_count": 25,
      "metadata": {},
      "outputs": [],
      "source": [
        "df.dropna(subset='label', inplace=True)\n",
        "df.reset_index(drop=True, inplace=True)"
      ]
    },
    {
      "cell_type": "code",
      "execution_count": 26,
      "metadata": {},
      "outputs": [],
      "source": [
        "labels = pd.DataFrame()\n",
        "\n",
        "for n, i in enumerate(df['target_lm']):\n",
        "    for num, j in enumerate(i):\n",
        "        labels.loc[n, 'target_x_'+str(num)] = j.x\n",
        "        labels.loc[n, 'target_y_'+str(num)] = j.y\n",
        "        labels.loc[n, 'target_z_'+str(num)] = j.z\n",
        "        \n",
        "for n, i in enumerate(df['user_lm']):\n",
        "    for num, j in enumerate(i):\n",
        "        labels.loc[n, 'user_x_'+str(num)] = j.x\n",
        "        labels.loc[n, 'user_y_'+str(num)] = j.y\n",
        "        labels.loc[n, 'user_z_'+str(num)] = j.z\n",
        "\n",
        "labels['label'] = df['label']"
      ]
    },
    {
      "cell_type": "code",
      "execution_count": 31,
      "metadata": {},
      "outputs": [],
      "source": [
        "labels.to_csv('bts_dynamite_label.csv', index=False)"
      ]
    },
    {
      "cell_type": "markdown",
      "metadata": {},
      "source": [
        "## 0인 데이터 만들기\n"
      ]
    },
    {
      "cell_type": "code",
      "execution_count": null,
      "metadata": {},
      "outputs": [],
      "source": [
        "import cv2\n",
        "import mediapipe as mp\n",
        "import numpy as np\n",
        "import matplotlib.pyplot as plt\n",
        "import keyboard\n",
        "import random\n",
        "from moviepy.editor import *"
      ]
    },
    {
      "cell_type": "code",
      "execution_count": 22,
      "metadata": {},
      "outputs": [],
      "source": [
        "video_clip = VideoFileClip('./동영상/newjeans - super shy2.mp4').subclip(2, 203)\n",
        "video_clip2 = VideoFileClip('./동영상/newjeans - hypeboy1.mp4').subclip(3, 203)"
      ]
    },
    {
      "cell_type": "code",
      "execution_count": 14,
      "metadata": {},
      "outputs": [],
      "source": [
        "# 포즈 감지 모델 초기화\n",
        "mp_pose = mp.solutions.pose\n",
        "pose_video = mp_pose.Pose(static_image_mode=True, min_detection_confidence=0.7,\n",
        "                          min_tracking_confidence=0.7)\n",
        "mp_drawing = mp.solutions.drawing_utils"
      ]
    },
    {
      "cell_type": "code",
      "execution_count": 15,
      "metadata": {},
      "outputs": [],
      "source": [
        "# 포즈 검출 함수\n",
        "def detectPose(image_pose, pose, draw=False, display=False):\n",
        "    \n",
        "    original_image = image_pose.copy()\n",
        "    \n",
        "    image_in_RGB = cv2.cvtColor(image_pose, cv2.COLOR_BGR2RGB)\n",
        "    \n",
        "    resultant = pose.process(image_in_RGB)\n",
        "\n",
        "    if resultant.pose_landmarks and draw:    \n",
        "\n",
        "        mp_drawing.draw_landmarks(image=original_image, landmark_list=resultant.pose_landmarks,\n",
        "                                  connections=mp_pose.POSE_CONNECTIONS,\n",
        "                                  landmark_drawing_spec=mp_drawing.DrawingSpec(color=(255,255,255),\n",
        "                                                                               thickness=3, circle_radius=3),\n",
        "                                  connection_drawing_spec=mp_drawing.DrawingSpec(color=(49,125,237),\n",
        "                                                                               thickness=2, circle_radius=2))\n",
        "\n",
        "    if display:\n",
        "            \n",
        "            plt.figure(figsize=[22,22])\n",
        "            # plt.subplot(121);plt.imshow(image_pose[:,:,::-1]);plt.title(\"Input Image\");plt.axis('off');\n",
        "            plt.subplot(122);plt.imshow(original_image[:,:,::-1]);plt.axis('off') #;plt.title(\"Pose detected Image\");plt.axis('off');\n",
        "\n",
        "    # else:\n",
        "    #     return original_image, resultant\n",
        "    return original_image, resultant"
      ]
    },
    {
      "cell_type": "code",
      "execution_count": 16,
      "metadata": {},
      "outputs": [],
      "source": [
        "import pandas as pd\n",
        "df = pd.DataFrame()"
      ]
    },
    {
      "cell_type": "code",
      "execution_count": 23,
      "metadata": {},
      "outputs": [],
      "source": [
        "for num, i in enumerate(np.arange(0, 203, 0.5)):\n",
        "   \n",
        "    img = video_clip.get_frame(i)\n",
        "    img2 = video_clip2.get_frame(i)\n",
        "    \n",
        "    img, target_result = detectPose(img, pose_video, True, False)\n",
        "    img2, user_result = detectPose(img2, pose_video, True, False)\n",
        "    \n",
        "    img_target = cv2.resize(img, (0, 0), fx=0.5, fy=0.5, interpolation=cv2.INTER_AREA)\n",
        "    img_user = cv2.resize(img2, (0, 0), fx=0.5, fy=0.5, interpolation=cv2.INTER_AREA)\n",
        "    \n",
        "    numpy_vertical = np.vstack((img_target, img_user))\n",
        "    \n",
        "    ver_cv = cv2.cvtColor(numpy_vertical, cv2.COLOR_BGR2RGB)\n",
        "    cv2.imshow(\"target\", ver_cv)\n",
        "    cv2.waitKey()\n",
        "    \n",
        "    try:\n",
        "        if keyboard.is_pressed('0'):            # 두 포즈가 다른 경우\n",
        "            df.loc[num, 'target_lm'] = target_result.pose_world_landmarks.landmark\n",
        "            df.loc[num, 'user_lm'] = user_result.pose_world_landmarks.landmark\n",
        "            df.loc[num, 'label'] = 0\n",
        "            \n",
        "        if keyboard.is_pressed('1'):            # 두 포즈가 같은 경우\n",
        "            df.loc[num, 'target_lm'] = target_result.pose_world_landmarks.landmark\n",
        "            df.loc[num, 'user_lm'] = user_result.pose_world_landmarks.landmark\n",
        "            df.loc[num, 'label'] = 1\n",
        "            \n",
        "        if keyboard.is_pressed('2'):            # 둘 중 하나라도 인식이 안된 경우\n",
        "            df.loc[num, 'target_lm'] = target_result.pose_world_landmarks.landmark\n",
        "            df.loc[num, 'user_lm'] = user_result.pose_world_landmarks.landmark\n",
        "            df.loc[num, 'label'] = np.nan\n",
        "            \n",
        "        if keyboard.is_pressed('esc'):\n",
        "            break\n",
        "    except:\n",
        "        continue\n",
        "\n",
        "cv2.destroyAllWindows()"
      ]
    },
    {
      "cell_type": "code",
      "execution_count": 24,
      "metadata": {},
      "outputs": [],
      "source": [
        "df.dropna(subset='label', inplace=True)\n",
        "df.reset_index(drop=True, inplace=True)"
      ]
    },
    {
      "cell_type": "code",
      "execution_count": 25,
      "metadata": {},
      "outputs": [],
      "source": [
        "labels = pd.DataFrame()\n",
        "\n",
        "for n, i in enumerate(df['target_lm']):\n",
        "    for num, j in enumerate(i):\n",
        "        labels.loc[n, 'target_x_'+str(num)] = j.x\n",
        "        labels.loc[n, 'target_y_'+str(num)] = j.y\n",
        "        labels.loc[n, 'target_z_'+str(num)] = j.z\n",
        "        \n",
        "for n, i in enumerate(df['user_lm']):\n",
        "    for num, j in enumerate(i):\n",
        "        labels.loc[n, 'user_x_'+str(num)] = j.x\n",
        "        labels.loc[n, 'user_y_'+str(num)] = j.y\n",
        "        labels.loc[n, 'user_z_'+str(num)] = j.z\n",
        "\n",
        "labels['label'] = df['label']"
      ]
    },
    {
      "cell_type": "code",
      "execution_count": 26,
      "metadata": {},
      "outputs": [],
      "source": [
        "labels.to_csv('./데이터/label_0_2.csv', index=False)"
      ]
    },
    {
      "cell_type": "markdown",
      "metadata": {},
      "source": [
        "# Pose Estimator"
      ]
    },
    {
      "cell_type": "code",
      "execution_count": 28,
      "metadata": {},
      "outputs": [],
      "source": [
        "import pandas as pd\n",
        "import numpy as np"
      ]
    },
    {
      "cell_type": "code",
      "execution_count": 29,
      "metadata": {},
      "outputs": [],
      "source": [
        "# 라벨링 데이터 불러오기\n",
        "bts_dy = pd.read_csv(\"./데이터/label_bts_dynamite.csv\")\n",
        "bts_pr = pd.read_csv('./데이터/label_bts_permission to dance.csv')\n",
        "newjeans_hy = pd.read_csv(\"./데이터/label_newjeans_hypeboy.csv\")\n",
        "newjeans_su = pd.read_csv(\"./데이터/label_newjeans_supershy.csv\")\n",
        "labels0_1 = pd.read_csv('./데이터/label_0_1.csv')\n",
        "labels0_2 = pd.read_csv('./데이터/label_0_2.csv')\n",
        "\n",
        "# 라벨링 데이터 합치기\n",
        "labels = pd.concat([bts_dy, bts_pr, newjeans_hy, newjeans_su, labels0_1, labels0_2])\n",
        "labels.reset_index(drop=True, inplace=True)"
      ]
    },
    {
      "cell_type": "code",
      "execution_count": 30,
      "metadata": {},
      "outputs": [],
      "source": [
        "# target, user별 x, y, z 컬럼 정리\n",
        "target_col = [i for i in labels.columns if 'target' in i]\n",
        "user_col = [i for i in labels.columns if 'user' in i]\n",
        "\n",
        "target_x_col = [i for i in target_col if 'x' in i]\n",
        "target_y_col = [i for i in target_col if 'y' in i]\n",
        "target_z_col = [i for i in target_col if 'z' in i]\n",
        "\n",
        "user_x_col = [i for i in user_col if 'x' in i]\n",
        "user_y_col = [i for i in user_col if 'y' in i]\n",
        "user_z_col = [i for i in user_col if 'z' in i]"
      ]
    },
    {
      "cell_type": "markdown",
      "metadata": {},
      "source": [
        "## Normalization"
      ]
    },
    {
      "cell_type": "code",
      "execution_count": 35,
      "metadata": {},
      "outputs": [],
      "source": [
        "# 영상 프레임별 x, y, z 정규화\n",
        "target_norm = []\n",
        "user_norm = []\n",
        "\n",
        "for i in range(len(labels)):\n",
        "    target_x = labels.loc[i, target_x_col].values\n",
        "    target_y = labels.loc[i, target_y_col].values\n",
        "    target_z = labels.loc[i, target_z_col].values\n",
        "    \n",
        "    user_x = labels.loc[i, user_x_col].values\n",
        "    user_y = labels.loc[i, user_y_col].values\n",
        "    user_z = labels.loc[i, user_z_col].values\n",
        "    \n",
        "    target_x_norm = (target_x - min(target_x)) / (max(target_x) - min(target_x))\n",
        "    target_y_norm = (target_y - min(target_y)) / (max(target_y) - min(target_y))\n",
        "    target_z_norm = (target_z - min(target_z)) / (max(target_z) - min(target_z))\n",
        "    \n",
        "    user_x_norm = (user_x - min(user_x)) / (max(user_x) - min(user_x))\n",
        "    user_y_norm = (user_y - min(user_y)) / (max(user_y) - min(user_y))\n",
        "    user_z_norm = (user_z - min(user_z)) / (max(user_z) - min(user_z))\n",
        "    \n",
        "    target_norm.append((target_x_norm.tolist(), target_y_norm.tolist(), target_z_norm.tolist()))\n",
        "    user_norm.append((user_x_norm.tolist(), user_y_norm.tolist(), user_z_norm.tolist()))"
      ]
    },
    {
      "cell_type": "markdown",
      "metadata": {},
      "source": [
        "## link vector"
      ]
    },
    {
      "cell_type": "code",
      "execution_count": 36,
      "metadata": {},
      "outputs": [],
      "source": [
        "link_keypoint = [(0, 1),\n",
        "(1, 3),\n",
        "(3,\t5),\n",
        "(5,\t7),\n",
        "(5,\t9),\n",
        "(5,\t11),\n",
        "(1, 13),\n",
        "(13, 15),\n",
        "(15, 17),\n",
        "(17, 19),\n",
        "(17, 21),\n",
        "(0, 2),\n",
        "(2, 4),\n",
        "(4, 6),\n",
        "(4, 8),\n",
        "(4, 10),\n",
        "(4, 12),\n",
        "(2, 14),\n",
        "(14, 16),\n",
        "(16, 18),\n",
        "(18, 20),\n",
        "(18, 22)]"
      ]
    },
    {
      "cell_type": "code",
      "execution_count": 37,
      "metadata": {},
      "outputs": [],
      "source": [
        "link_vector_target = []\n",
        "\n",
        "for land in target_norm:\n",
        "    a = []\n",
        "    for link in link_keypoint:\n",
        "        x = land[0][link[0]] - land[0][link[1]]\n",
        "        y = land[1][link[0]] - land[1][link[1]]\n",
        "        z = land[2][link[0]] - land[2][link[1]]\n",
        "        a.append((x, y, z))\n",
        "        \n",
        "    link_vector_target.append(a)\n",
        "    \n",
        "link_vector_user = []\n",
        "\n",
        "for land in user_norm:\n",
        "    a = []\n",
        "    for link in link_keypoint:\n",
        "        x = land[0][link[0]] - land[0][link[1]]\n",
        "        y = land[1][link[0]] - land[1][link[1]]\n",
        "        z = land[2][link[0]] - land[2][link[1]]\n",
        "        a.append((x, y, z))\n",
        "        \n",
        "    link_vector_user.append(a)"
      ]
    },
    {
      "cell_type": "markdown",
      "metadata": {},
      "source": [
        "## angle vector"
      ]
    },
    {
      "cell_type": "code",
      "execution_count": 38,
      "metadata": {},
      "outputs": [],
      "source": [
        "angle_keypoint=[\n",
        "    (0, 1, 3),\n",
        "    (1, 3, 5),\n",
        "    (3, 5, 9),\n",
        "    (1, 13, 15),\n",
        "    (13, 15, 17),\n",
        "    (15, 17, 19),\n",
        "    (15, 17, 21),\n",
        "    (0, 2, 4),\n",
        "    (2, 4, 6),\n",
        "    (4, 6, 10),\n",
        "    (2, 14, 16),\n",
        "    (14, 16, 18),\n",
        "    (16, 18, 20),\n",
        "    (16, 18, 22)]"
      ]
    },
    {
      "cell_type": "code",
      "execution_count": 39,
      "metadata": {},
      "outputs": [],
      "source": [
        "import math\n",
        "\n",
        "angle_vector_target = []\n",
        "\n",
        "for land in target_norm:\n",
        "    a = []\n",
        "    for angle in angle_keypoint:\n",
        "        x = np.array([land[0][angle[0]] - land[0][angle[1]], land[1][angle[0]] - land[1][angle[1]], land[2][angle[0]] - land[2][angle[1]]])\n",
        "        y = np.array([land[0][angle[1]] - land[0][angle[2]], land[1][angle[1]] - land[1][angle[2]], land[2][angle[1]] - land[2][angle[2]]])\n",
        "        \n",
        "        분자 = np.dot(x, y)\n",
        "        분모 = np.sqrt(x.dot(x)) * np.sqrt(x.dot(x))\n",
        "        try:\n",
        "            a.append(math.acos(분자 / 분모))\n",
        "        except:\n",
        "            a.append(0)\n",
        "    angle_vector_target.append(a)\n",
        "    \n",
        "    \n",
        "angle_vector_user = []\n",
        "\n",
        "for land in user_norm:\n",
        "    a = []\n",
        "    for angle in angle_keypoint:\n",
        "        x = np.array([land[0][angle[0]] - land[0][angle[1]], land[1][angle[0]] - land[1][angle[1]], land[2][angle[0]] - land[2][angle[1]]])\n",
        "        y = np.array([land[0][angle[1]] - land[0][angle[2]], land[1][angle[1]] - land[1][angle[2]], land[2][angle[1]] - land[2][angle[2]]])\n",
        "        \n",
        "        분자 = np.dot(x, y)\n",
        "        분모 = np.sqrt(x.dot(x)) * np.sqrt(x.dot(x))\n",
        "        try:\n",
        "            a.append(math.acos(분자 / 분모))\n",
        "        except:\n",
        "            a.append(0)\n",
        "    angle_vector_user.append(a)"
      ]
    },
    {
      "cell_type": "markdown",
      "metadata": {},
      "source": [
        "## Feature Extractor"
      ]
    },
    {
      "cell_type": "code",
      "execution_count": 40,
      "metadata": {},
      "outputs": [],
      "source": [
        "def extractor(num):\n",
        "    link = np.array(link_vector_target)[num] - np.array(link_vector_user)[num]\n",
        "    angle = np.array(angle_vector_target)[num] - np.array(angle_vector_user)[num]\n",
        "    \n",
        "    산술평균_링크 = [np.mean(link.T[0]), np.mean(link.T[1]), np.mean(link.T[2])]\n",
        "    표준편차_링크 = [np.std(link.T[0]), np.std(link.T[1]), np.std(link.T[2])]\n",
        "    제곱평균_링크 = [np.mean(link.T[0]**2), np.mean(link.T[1]**2), np.mean(link.T[2]**2)]\n",
        "    \n",
        "    산술평균_앵글 = np.mean(angle)\n",
        "    표준편차_앵글 = np.std(angle)\n",
        "    제곱평균_앵글 = np.mean(angle)\n",
        "    \n",
        "    return(산술평균_링크+표준편차_링크+제곱평균_링크+[산술평균_앵글]+[표준편차_앵글]+[제곱평균_앵글])"
      ]
    },
    {
      "cell_type": "code",
      "execution_count": 41,
      "metadata": {},
      "outputs": [],
      "source": [
        "df_extractor = pd.DataFrame()\n",
        "\n",
        "for i in range(len(labels)):\n",
        "    df = pd.DataFrame(extractor(i)).transpose()\n",
        "    df.columns = ['산술평균_링크_x', '산술평균_링크_y', '산술평균_링크_z',\n",
        "                    '표준편차_링크_x', '표준편차_링크_y', '표준편차_링크_z',\n",
        "                    '제곱평균_링크_x', '제곱평균_링크_y', '제곱평균_링크_z',\n",
        "                    '산술평균_앵글_x', '산술평균_앵글_y', '산술평균_앵글_z']\n",
        "    df_extractor = pd.concat([df_extractor, df])"
      ]
    },
    {
      "cell_type": "code",
      "execution_count": 42,
      "metadata": {},
      "outputs": [],
      "source": [
        "df_extractor['label'] = labels['label'].values\n",
        "df_extractor.to_csv('./데이터/train_data.csv', index=False)"
      ]
    },
    {
      "cell_type": "code",
      "execution_count": 9,
      "metadata": {},
      "outputs": [],
      "source": [
        "df = pd.read_csv('./데이터/train_data.csv')"
      ]
    },
    {
      "cell_type": "code",
      "execution_count": null,
      "metadata": {},
      "outputs": [],
      "source": []
    }
  ],
  "metadata": {
    "colab": {
      "name": "학습데이터 만들기 (1).ipynb",
      "provenance": []
    },
    "kernelspec": {
      "display_name": "kpop",
      "language": "python",
      "name": "kpop"
    },
    "language_info": {
      "codemirror_mode": {
        "name": "ipython",
        "version": 3
      },
      "file_extension": ".py",
      "mimetype": "text/x-python",
      "name": "python",
      "nbconvert_exporter": "python",
      "pygments_lexer": "ipython3",
      "version": "3.10.10"
    },
    "orig_nbformat": 4
  },
  "nbformat": 4,
  "nbformat_minor": 0
}
